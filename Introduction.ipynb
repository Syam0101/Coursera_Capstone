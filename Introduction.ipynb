{
 "cells": [
  {
   "cell_type": "markdown",
   "metadata": {},
   "source": [
    "# Introduction: Business Problem"
   ]
  },
  {
   "cell_type": "markdown",
   "metadata": {},
   "source": [
    "Road accidents are one of the major problems leading to loss of lives and properties in many countries. They further have an impact on social and economic conditions in terms of major costs like healthcare. But accidents prediction on roadways is quite a difficult task as they are caused by wide variety of reasons like road conditions, road designs, user behaviours, traffic rules, vehicle conditions, weather conditions etc. Gathering data about each and every attribute with an extra factor of severity attached to it like property damage, injury, serious injury, fatality etc. can help us build some hypothesis and build statistical models of prediction around them."
   ]
  },
  {
   "cell_type": "markdown",
   "metadata": {},
   "source": [
    "   We can test the hypothesis and build perfect prediction models or even gain new insights regarding what are the main reasons apart from already assumed reasons. The total number of accidents happening and the severity level of accidents have been and can be applied as one of the many possible indicators to measure the efficiency of road network system services. The resulting models can help the respective government road transport agencies to identify and rectify the accident factors by answering the question -"
   ]
  },
  {
   "cell_type": "markdown",
   "metadata": {},
   "source": [
    "__What are all the factors which increases the probability of severity in accidents?__"
   ]
  }
 ],
 "metadata": {
  "kernelspec": {
   "display_name": "Python 3",
   "language": "python",
   "name": "python3"
  },
  "language_info": {
   "codemirror_mode": {
    "name": "ipython",
    "version": 3
   },
   "file_extension": ".py",
   "mimetype": "text/x-python",
   "name": "python",
   "nbconvert_exporter": "python",
   "pygments_lexer": "ipython3",
   "version": "3.8.3"
  }
 },
 "nbformat": 4,
 "nbformat_minor": 4
}
