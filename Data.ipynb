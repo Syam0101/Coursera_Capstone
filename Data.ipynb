{
 "cells": [
  {
   "cell_type": "markdown",
   "metadata": {},
   "source": [
    "# Data"
   ]
  },
  {
   "cell_type": "markdown",
   "metadata": {},
   "source": [
    "## a. Data Understanding"
   ]
  },
  {
   "cell_type": "markdown",
   "metadata": {},
   "source": [
    "The Proposed model tries to predict the severity of accidents from the dataset of all accidents reported within the Seattle-area provided by the SPD from the year 2004 to present(Data / Metadata). The dataset includes several attributes relating to accident from location & time to junction type to weather conditions to severity."
   ]
  },
  {
   "cell_type": "markdown",
   "metadata": {},
   "source": [
    "From the data, removing irrelevant and redundant attributes before feeding the data into the model is very important as it increases both efficiency and reliability of model outputs. Accordingly, we will remove attributes like"
   ]
  },
  {
   "cell_type": "markdown",
   "metadata": {},
   "source": [
    "“OBJECT ID, SHAPE, INCKEY, COLDETKEY, INTKEY, LOCATION, EXCEPTRSNCODE, EXCEPTRSNDESC, SEVERITY DESC, INJURIES, SERIOUSINJURIES, FATALITIES, INCDATE, SDOT_COLCODE, SDOT_COLCODE, PEDROWNOTGRNT, SDOTCOLNUM, ST_COLCODE, ST_COLDESC, SEGLANEKEY, CROSSWALKKEY and STATUS” from the data."
   ]
  },
  {
   "cell_type": "markdown",
   "metadata": {},
   "source": [
    "We have a parameter called Severity which we will use to determine the hazardous conditions leading to accidents based on the other attributes provided in the data as mentioned below:\n",
    "1.\tSeverity Code (Property damage, injury, fatality)\n",
    "2.\tLocation data (Coordinates, address type etc)\n",
    "3.\tCollision Type (Pedestrians, Vehicles, cycles, junction etc.)\n",
    "4.\tPersons Involved (Pedestrians, Cyclists etc)\n",
    "5.\tVehicle Count\n",
    "6.\tDate and Time\n",
    "7.\tJunction Type\n",
    "8.\tInattention, Under Influence and Speeding\n",
    "9.\tWeather and Road Conditions"
   ]
  },
  {
   "cell_type": "markdown",
   "metadata": {},
   "source": [
    "## b. Data Preparation"
   ]
  },
  {
   "cell_type": "markdown",
   "metadata": {},
   "source": [
    "   From the variables chosen, we will segregate both numerical and categorical variables to see patterns and count of data relevant to an accident in both buckets. After analysing the patterns individually for each attribute, we will select attributes which might not be needed as inputs as they might skew the output or will have no influence on the output.\n",
    "   Then we will find the attributes having missing values and fill them with relevant data accordingly to ensure smooth operations and avoid any skewed output. For categorical data, we will replace it with NaN or missing. For numerical data, we will fill with the median of the data as mean considers outliers."
   ]
  }
 ],
 "metadata": {
  "kernelspec": {
   "display_name": "Python 3",
   "language": "python",
   "name": "python3"
  },
  "language_info": {
   "codemirror_mode": {
    "name": "ipython",
    "version": 3
   },
   "file_extension": ".py",
   "mimetype": "text/x-python",
   "name": "python",
   "nbconvert_exporter": "python",
   "pygments_lexer": "ipython3",
   "version": "3.8.3"
  }
 },
 "nbformat": 4,
 "nbformat_minor": 4
}
